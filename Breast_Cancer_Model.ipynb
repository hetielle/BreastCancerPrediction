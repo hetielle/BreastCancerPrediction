{
  "nbformat": 4,
  "nbformat_minor": 0,
  "metadata": {
    "colab": {
      "provenance": []
    },
    "kernelspec": {
      "name": "python3",
      "display_name": "Python 3"
    },
    "language_info": {
      "name": "python"
    }
  },
  "cells": [
    {
      "cell_type": "code",
      "execution_count": null,
      "metadata": {
        "collapsed": true,
        "id": "emKtD5MrAe9s"
      },
      "outputs": [],
      "source": [
        "%pip install git+https://github.com/vanderschaarlab/temporai.git\n",
        "import pandas as pd\n",
        "import numpy as np\n",
        "from random import randrange, uniform\n",
        "\n",
        "from google.colab import drive\n",
        "drive.mount('/content/drive')"
      ]
    },
    {
      "cell_type": "code",
      "source": [
        "colunas = ['eventdeath', 'survival', 'timerecurrence', 'chemo', 'hormonal', 'amputation', 'histtype', 'diam', 'posnodes', 'grade', 'angioinv', 'lymphinfil' ]\n",
        "df = pd.read_csv('/content/drive/MyDrive/Data/nki_cleaned.csv', usecols=colunas)\n",
        "\n",
        "index_count = []\n",
        "random_num = []\n",
        "\n",
        "for i in range(1, len(df.index)+1):\n",
        "  index_count.append(i)\n",
        "  random_num.append(randrange(1, 20))\n",
        "\n",
        "df['sample_idx'] = index_count\n",
        "df['time_idx'] = random_num"
      ],
      "metadata": {
        "collapsed": true,
        "id": "k2UimQMJH2M5"
      },
      "execution_count": null,
      "outputs": []
    },
    {
      "cell_type": "code",
      "source": [
        "time_series_df = df.copy()\n",
        "time_series_df.set_index(keys=[\"sample_idx\", \"time_idx\"], drop=True, inplace=True)"
      ],
      "metadata": {
        "collapsed": true,
        "id": "UZmgZeod7Yac"
      },
      "execution_count": null,
      "outputs": []
    },
    {
      "cell_type": "code",
      "source": [
        "time_series_df"
      ],
      "metadata": {
        "id": "3u7LQ3NQaYQz"
      },
      "execution_count": null,
      "outputs": []
    },
    {
      "cell_type": "code",
      "source": [
        "event_df = df.copy()\n",
        "event_df.set_index(keys=[\"sample_idx\"], drop=True, inplace=True)\n",
        "\n",
        "event_df['event'] = event_df[['time_idx', 'eventdeath']].apply(tuple, axis=1)\n",
        "event_df.drop(event_df.iloc[:, :13], inplace=True, axis=1)"
      ],
      "metadata": {
        "collapsed": true,
        "id": "mV1n9wcI7nwP"
      },
      "execution_count": null,
      "outputs": []
    },
    {
      "cell_type": "code",
      "source": [
        "event_df"
      ],
      "metadata": {
        "id": "rso5FnyGamN7"
      },
      "execution_count": null,
      "outputs": []
    },
    {
      "cell_type": "code",
      "source": [
        "from tempor.data.dataset import TimeToEventAnalysisDataset\n",
        "\n",
        "data = TimeToEventAnalysisDataset(\n",
        "    time_series=time_series_df,\n",
        "    targets=event_df,\n",
        ")"
      ],
      "metadata": {
        "id": "9gWXHJPzPQjI"
      },
      "execution_count": null,
      "outputs": []
    },
    {
      "cell_type": "code",
      "source": [
        "from tempor import plugin_loader\n",
        "\n",
        "model = plugin_loader.get(\"time_to_event.dynamic_deephit\", n_iter=50)\n",
        "model.fit(data)\n",
        "model.predict(data, horizons=[0.25, 0.50, 0.75])"
      ],
      "metadata": {
        "collapsed": true,
        "id": "d3iXe1EMF3_w"
      },
      "execution_count": null,
      "outputs": []
    }
  ]
}